{
 "cells": [
  {
   "cell_type": "code",
   "execution_count": 1,
   "metadata": {},
   "outputs": [
    {
     "name": "stdout",
     "output_type": "stream",
     "text": [
      "単語bi_gram:  [['I', 'am'], ['am', 'an'], ['an', 'NLPer']]\n",
      "文字bi_gram: ['Ia', 'am', 'ma', 'an', 'nN', 'NL', 'LP', 'Pe', 'er']\n"
     ]
    }
   ],
   "source": [
    "def n_gram(text):\n",
    "  return [text[i:i+2] for i in range(len(text) - 2 + 1)]\n",
    "\n",
    "text = \"I am an NLPer\"\n",
    "\n",
    "word_bi_gram = n_gram(list(text.split()))\n",
    "print(\"単語bi_gram: \",word_bi_gram)\n",
    "\n",
    "letter_bi_gram = n_gram(text.replace(\" \",\"\"))\n",
    "print(\"文字bi_gram:\",letter_bi_gram)\n",
    "\n",
    "\n",
    "\n"
   ]
  },
  {
   "cell_type": "code",
   "execution_count": null,
   "metadata": {},
   "outputs": [],
   "source": []
  }
 ],
 "metadata": {
  "kernelspec": {
   "display_name": "Python 3",
   "language": "python",
   "name": "python3"
  },
  "language_info": {
   "codemirror_mode": {
    "name": "ipython",
    "version": 3
   },
   "file_extension": ".py",
   "mimetype": "text/x-python",
   "name": "python",
   "nbconvert_exporter": "python",
   "pygments_lexer": "ipython3",
   "version": "3.13.0"
  }
 },
 "nbformat": 4,
 "nbformat_minor": 2
}
