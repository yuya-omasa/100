{
 "cells": [
  {
   "cell_type": "code",
   "execution_count": 1,
   "metadata": {},
   "outputs": [
    {
     "name": "stdout",
     "output_type": "stream",
     "text": [
      "'paraparaparadise'bi_gram: ['pa', 'ar', 'ra', 'ap', 'pa', 'ar', 'ra', 'ap', 'pa', 'ar', 'ra', 'ad', 'di', 'is', 'se']\n",
      "'paragraph'bi_gram: ['pa', 'ar', 'ra', 'ag', 'gr', 'ra', 'ap', 'ph']\n",
      "和集合: ['ph', 'gr', 'se', 'di', 'ag', 'ra', 'ar', 'ad', 'is', 'pa', 'ap']\n",
      "積集合: ['ra', 'pa', 'ar', 'ap']\n",
      "差集合: ['se', 'di', 'ad', 'is']\n",
      "True\n",
      "False\n"
     ]
    }
   ],
   "source": [
    "text = \"paraparaparadise\"\n",
    "text2 = \"paragraph\"\n",
    "\n",
    "def n_gram(text):\n",
    "  return [text[i:i+2] for i in range(len(text) - 2 + 1)]\n",
    "\n",
    "text = n_gram(text.replace(\" \",\"\"))\n",
    "print(\"'paraparaparadise'bi_gram:\",text)\n",
    "\n",
    "text2 = n_gram(text2.replace(\" \",\"\"))\n",
    "print(\"'paragraph'bi_gram:\",text2)\n",
    "\n",
    "list_c = list(set(text) | set(text2))\n",
    "print(\"和集合:\",list_c)\n",
    "list_d = list(set(text) & set(text2))\n",
    "print(\"積集合:\",list_d)\n",
    "list_e = list(set(text) - set(text2))\n",
    "print(\"差集合:\",list_e)\n",
    "\n",
    "print('se' in text)\n",
    "print('se' in text2)\n"
   ]
  },
  {
   "cell_type": "code",
   "execution_count": null,
   "metadata": {},
   "outputs": [],
   "source": []
  }
 ],
 "metadata": {
  "kernelspec": {
   "display_name": "Python 3",
   "language": "python",
   "name": "python3"
  },
  "language_info": {
   "codemirror_mode": {
    "name": "ipython",
    "version": 3
   },
   "file_extension": ".py",
   "mimetype": "text/x-python",
   "name": "python",
   "nbconvert_exporter": "python",
   "pygments_lexer": "ipython3",
   "version": "3.13.0"
  }
 },
 "nbformat": 4,
 "nbformat_minor": 2
}
