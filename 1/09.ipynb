{
 "cells": [
  {
   "cell_type": "code",
   "execution_count": null,
   "metadata": {},
   "outputs": [
    {
     "name": "stdout",
     "output_type": "stream",
     "text": [
      "I cudlo'nt bevliee that I cloud allactuy usnnaretdd what I was rdneaig : the pmohanneel peowr of the hamun mind . \n"
     ]
    }
   ],
   "source": [
    "import random\n",
    "\n",
    "def Typoglycemia(s):\n",
    "    get = s.split()\n",
    "    \n",
    "    result = \"\"\n",
    "    for word in get:\n",
    "        if len(word) > 4:\n",
    "            middle_chars = list(word[1:-1])\n",
    "            random.shuffle(middle_chars)\n",
    "            word = word[0] + ''.join(middle_chars) + word[-1] \n",
    "\n",
    "            result += word + ' '\n",
    "        else :\n",
    "            result += word + ' '\n",
    "\n",
    "    return result\n",
    "s = \"I couldn't believe that I could actually understand what I was reading : the phenomenal power of the human mind .\"\n",
    "print(Typoglycemia(s))"
   ]
  },
  {
   "cell_type": "code",
   "execution_count": null,
   "metadata": {},
   "outputs": [],
   "source": []
  }
 ],
 "metadata": {
  "kernelspec": {
   "display_name": "Python 3",
   "language": "python",
   "name": "python3"
  },
  "language_info": {
   "codemirror_mode": {
    "name": "ipython",
    "version": 3
   },
   "file_extension": ".py",
   "mimetype": "text/x-python",
   "name": "python",
   "nbconvert_exporter": "python",
   "pygments_lexer": "ipython3",
   "version": "3.13.0"
  }
 },
 "nbformat": 4,
 "nbformat_minor": 2
}
