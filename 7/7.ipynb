{
 "cells": [
  {
   "cell_type": "markdown",
   "id": "f72d38fb",
   "metadata": {},
   "source": [
    "６０．データの入手・整形"
   ]
  },
  {
   "cell_type": "code",
   "execution_count": 3,
   "id": "e86c141d",
   "metadata": {},
   "outputs": [
    {
     "name": "stdout",
     "output_type": "stream",
     "text": [
      "--2025-05-14 18:33:43--  https://dl.fbaipublicfiles.com/glue/data/SST-2.zip\n",
      "Resolving dl.fbaipublicfiles.com (dl.fbaipublicfiles.com)... 3.163.224.57, 3.163.224.86, 3.163.224.94, ...\n",
      "Connecting to dl.fbaipublicfiles.com (dl.fbaipublicfiles.com)|3.163.224.57|:443... connected.\n",
      "HTTP request sent, awaiting response... 200 OK\n",
      "Length: 7439277 (7.1M) [application/zip]\n",
      "Saving to: ‘./data/SST-2.zip’\n",
      "\n",
      "./data/SST-2.zip    100%[===================>]   7.09M  46.9MB/s    in 0.2s    \n",
      "\n",
      "2025-05-14 18:33:44 (46.9 MB/s) - ‘./data/SST-2.zip’ saved [7439277/7439277]\n",
      "\n",
      "Archive:  ./data/SST-2.zip\n",
      "   creating: ./data/SST-2/\n",
      "  inflating: ./data/SST-2/dev.tsv    \n",
      "   creating: ./data/SST-2/original/\n",
      "  inflating: ./data/SST-2/original/README.txt  \n",
      "  inflating: ./data/SST-2/original/SOStr.txt  \n",
      "  inflating: ./data/SST-2/original/STree.txt  \n",
      "  inflating: ./data/SST-2/original/datasetSentences.txt  \n",
      "  inflating: ./data/SST-2/original/datasetSplit.txt  \n",
      "  inflating: ./data/SST-2/original/dictionary.txt  \n",
      "  inflating: ./data/SST-2/original/original_rt_snippets.txt  \n",
      "  inflating: ./data/SST-2/original/sentiment_labels.txt  \n",
      "  inflating: ./data/SST-2/test.tsv   \n",
      "  inflating: ./data/SST-2/train.tsv  \n"
     ]
    }
   ],
   "source": [
    "! wget -O ./data/SST-2.zip https://dl.fbaipublicfiles.com/glue/data/SST-2.zip \n",
    "! unzip -d ./data ./data/SST-2.zip"
   ]
  },
  {
   "cell_type": "code",
   "execution_count": 5,
   "id": "2b34bbc6",
   "metadata": {},
   "outputs": [
    {
     "data": {
      "text/html": [
       "<div>\n",
       "<style scoped>\n",
       "    .dataframe tbody tr th:only-of-type {\n",
       "        vertical-align: middle;\n",
       "    }\n",
       "\n",
       "    .dataframe tbody tr th {\n",
       "        vertical-align: top;\n",
       "    }\n",
       "\n",
       "    .dataframe thead th {\n",
       "        text-align: right;\n",
       "    }\n",
       "</style>\n",
       "<table border=\"1\" class=\"dataframe\">\n",
       "  <thead>\n",
       "    <tr style=\"text-align: right;\">\n",
       "      <th></th>\n",
       "      <th>sentence</th>\n",
       "      <th>label</th>\n",
       "    </tr>\n",
       "  </thead>\n",
       "  <tbody>\n",
       "    <tr>\n",
       "      <th>0</th>\n",
       "      <td>hide new secretions from the parental units</td>\n",
       "      <td>0</td>\n",
       "    </tr>\n",
       "    <tr>\n",
       "      <th>1</th>\n",
       "      <td>contains no wit , only labored gags</td>\n",
       "      <td>0</td>\n",
       "    </tr>\n",
       "    <tr>\n",
       "      <th>2</th>\n",
       "      <td>that loves its characters and communicates som...</td>\n",
       "      <td>1</td>\n",
       "    </tr>\n",
       "    <tr>\n",
       "      <th>3</th>\n",
       "      <td>remains utterly satisfied to remain the same t...</td>\n",
       "      <td>0</td>\n",
       "    </tr>\n",
       "    <tr>\n",
       "      <th>4</th>\n",
       "      <td>on the worst revenge-of-the-nerds clichés the ...</td>\n",
       "      <td>0</td>\n",
       "    </tr>\n",
       "  </tbody>\n",
       "</table>\n",
       "</div>"
      ],
      "text/plain": [
       "                                            sentence  label\n",
       "0       hide new secretions from the parental units       0\n",
       "1               contains no wit , only labored gags       0\n",
       "2  that loves its characters and communicates som...      1\n",
       "3  remains utterly satisfied to remain the same t...      0\n",
       "4  on the worst revenge-of-the-nerds clichés the ...      0"
      ]
     },
     "execution_count": 5,
     "metadata": {},
     "output_type": "execute_result"
    }
   ],
   "source": [
    "import pandas as pd\n",
    "from pandas import DataFrame\n",
    "import numpy as np\n",
    "\n",
    "train_path = \"./data/SST-2/train.tsv\"\n",
    "dev_path = \"./data/SST-2/dev.tsv\"\n",
    "test_path = \"./data/SST-2/test.tsv\"\n",
    "\n",
    "df_train = pd.read_csv(train_path, sep=\"\\t\")\n",
    "df_dev = pd.read_csv(dev_path, sep=\"\\t\")\n",
    "df_test = pd.read_csv(test_path, sep=\"\\t\")\n",
    "\n",
    "df_train.head()"
   ]
  },
  {
   "cell_type": "code",
   "execution_count": 6,
   "id": "fab0494c",
   "metadata": {},
   "outputs": [
    {
     "name": "stdout",
     "output_type": "stream",
     "text": [
      "Train\tpositive: 37569, negative: 29780\n",
      "Dev\tpositive:   444, negative:   428\n"
     ]
    }
   ],
   "source": [
    "def countPosNeg(df:DataFrame)->tuple[int, int]:\n",
    "    size = df.groupby(\"label\").size()\n",
    "    num_pos = size[1]\n",
    "    num_neg = size[0]\n",
    "    return (num_pos, num_neg)\n",
    "\n",
    "num_pos, num_neg = countPosNeg(df_train)\n",
    "print(f'Train\\tpositive: {num_pos}, negative: {num_neg}')\n",
    "num_pos, num_neg = countPosNeg(df_dev)\n",
    "print(f'Dev\\tpositive: {num_pos:5d}, negative: {num_neg:5d}')"
   ]
  },
  {
   "cell_type": "markdown",
   "id": "ed77c8de",
   "metadata": {},
   "source": [
    "６１．特徴ベクトル"
   ]
  },
  {
   "cell_type": "code",
   "execution_count": 7,
   "id": "e3a3540f",
   "metadata": {},
   "outputs": [
    {
     "name": "stdout",
     "output_type": "stream",
     "text": [
      "学習データの最初の事例:\n",
      "{'text': 'hide new secretions from the parental units', 'label': '0', 'feature': {'hide': 1, 'new': 1, 'secretions': 1, 'from': 1, 'the': 1, 'parental': 1, 'units': 1}}\n"
     ]
    }
   ],
   "source": [
    "import csv\n",
    "from collections import Counter\n",
    "\n",
    "def load_data_with_features(filepath):\n",
    "    data = []\n",
    "    with open(filepath, encoding='utf-8') as f:\n",
    "        reader = csv.DictReader(f, delimiter='\\t') #ヘッダー付きTSVファイルとして読み込み\n",
    "        for row in reader:\n",
    "            text = row['sentence'].strip()\n",
    "            label = row['label'].strip()\n",
    "            tokens = text.split() #スペースでトークン化\n",
    "            feature = dict(Counter(tokens)) #単語の出現頻度カウント\n",
    "            instance = {'text': text, 'label': label, 'feature': feature}\n",
    "            data.append(instance)\n",
    "    return data\n",
    "\n",
    "#学習データと検証データを読み込み\n",
    "train_data = load_data_with_features(train_path)\n",
    "dev_data = load_data_with_features(dev_path)\n",
    "\n",
    "#学習データの最初の事例を表示\n",
    "print(\"学習データの最初の事例:\")\n",
    "print(train_data[0])"
   ]
  },
  {
   "cell_type": "markdown",
   "id": "ed34153e",
   "metadata": {},
   "source": [
    "６２．学習"
   ]
  },
  {
   "cell_type": "code",
   "execution_count": 8,
   "id": "a28ab124",
   "metadata": {},
   "outputs": [
    {
     "name": "stdout",
     "output_type": "stream",
     "text": [
      "検証データにおける正解率: 0.8096330275229358\n"
     ]
    }
   ],
   "source": [
    "from sklearn.feature_extraction import DictVectorizer\n",
    "from sklearn.linear_model import LogisticRegression\n",
    "from sklearn.metrics import accuracy_score\n",
    "\n",
    "#特徴とラベルの抽出\n",
    "def extract_features_and_labels(data):\n",
    "    X = [instance['feature'] for instance in data] #特徴ベクトル（辞書）\n",
    "    y = [int(instance['label']) for instance in data] #ラベル（整数化）\n",
    "    return X, y\n",
    "\n",
    "#特徴とラベルを抽出\n",
    "X_train_dict , y_train = extract_features_and_labels(train_data)\n",
    "X_dev_dict, y_dev = extract_features_and_labels(dev_data)\n",
    "\n",
    "#辞書->数値ベクトルに変換\n",
    "vectorizer = DictVectorizer(sparse=True)\n",
    "X_train = vectorizer.fit_transform(X_train_dict)\n",
    "X_dev = vectorizer.transform(X_dev_dict)\n",
    "\n",
    "#ロジスティック回帰モデルの学習\n",
    "clf = LogisticRegression(max_iter=1000)\n",
    "clf.fit(X_train, y_train)\n",
    "\n",
    "#予測と評価\n",
    "y_pred = clf.predict(X_dev)\n",
    "accuracy = accuracy_score(y_dev, y_pred)\n",
    "\n",
    "print (\"検証データにおける正解率:\", accuracy)"
   ]
  },
  {
   "cell_type": "markdown",
   "id": "c8b4a5ed",
   "metadata": {},
   "source": [
    "６３．予測"
   ]
  },
  {
   "cell_type": "code",
   "execution_count": 9,
   "id": "b4d0b9a9",
   "metadata": {},
   "outputs": [
    {
     "name": "stdout",
     "output_type": "stream",
     "text": [
      "検証データの先頭の事例:\n",
      "テキスト: it 's a charming and often affecting journey .\n",
      "正解ラベル: 1\n",
      "予測ラベル: 1\n"
     ]
    }
   ],
   "source": [
    "# 検証データの先頭の事例を取り出す\n",
    "first_dev_instance = dev_data[0]\n",
    "trie_label = int(first_dev_instance['label']) #正解ラベル\n",
    "feature_dict = first_dev_instance['feature'] #BoW辞書特徴量\n",
    "\n",
    "#ベクトルに変換\n",
    "X_first = vectorizer.transform([feature_dict]) #１件でもリストで包む\n",
    "\n",
    "#ラベルを予感\n",
    "predicted_label = clf.predict(X_first)[0] #予測ラベル（整数）\n",
    "\n",
    "#結果表示\n",
    "print(\"検証データの先頭の事例:\")\n",
    "print(\"テキスト:\", first_dev_instance['text'])\n",
    "print(\"正解ラベル:\", trie_label)\n",
    "print(\"予測ラベル:\", predicted_label)"
   ]
  },
  {
   "cell_type": "markdown",
   "id": "f8ae4630",
   "metadata": {},
   "source": [
    "６４．条件付き確率"
   ]
  },
  {
   "cell_type": "code",
   "execution_count": 10,
   "id": "d183927a",
   "metadata": {},
   "outputs": [
    {
     "name": "stdout",
     "output_type": "stream",
     "text": [
      "検証データの先頭の事例の条件付き確率\n",
      "ラベル0 (ネガティブ) : 0.0043\n",
      "ラベル1 (ポジティブ) : 0.9957\n"
     ]
    }
   ],
   "source": [
    "# 検証データの先頭の事例を取り出す\n",
    "first_dev_instance = dev_data[0]\n",
    "feature_dict = first_dev_instance['feature'] # BoW特徴量辞書\n",
    "\n",
    "# 特徴をベクトルに変換\n",
    "X_first = vectorizer.transform([feature_dict])\n",
    "\n",
    "# 条件付き確率の予測\n",
    "proba = clf.predict_proba(X_first)[0] # クラスごとの確率（配列）\n",
    "\n",
    "# ラベルの順序を取得（例[0,1]）\n",
    "label_order = clf.classes_\n",
    "\n",
    "# 出力\n",
    "print(\"検証データの先頭の事例の条件付き確率\")\n",
    "for label, p in zip(label_order, proba):\n",
    "    label_name = \"ポジティブ\" if label == 1 else \"ネガティブ\"\n",
    "    print(f\"ラベル{label} ({label_name}) : {p:.4f}\")"
   ]
  },
  {
   "cell_type": "markdown",
   "id": "ddc531f5",
   "metadata": {},
   "source": [
    "６５．テキストのポジネガの予測"
   ]
  },
  {
   "cell_type": "code",
   "execution_count": 12,
   "id": "e5ee76ff",
   "metadata": {},
   "outputs": [
    {
     "name": "stdout",
     "output_type": "stream",
     "text": [
      "テキスト： the worst movie I 've ever seen\n",
      "予測ラベル： 0 (ネガティブ)\n",
      "確率： ネガティブ=0.9774, ポジティブ=0.0226\n"
     ]
    }
   ],
   "source": [
    "def predict_sentiment(text):\n",
    "    # 前処理：トークン化（スペース区切り）\n",
    "    tokens = text.strip().split()\n",
    "    feature_dict = dict(Counter(tokens))\n",
    "\n",
    "    # BoWベクトルに変換\n",
    "    X = vectorizer.transform([feature_dict])\n",
    "\n",
    "    # ラベル予測\n",
    "    predicted_label = clf.predict(X)[0]\n",
    "    predicted_proba = clf.predict_proba(X)[0]\n",
    "\n",
    "    # 出力\n",
    "    label_name = \"ポジティブ\" if predicted_label == 1 else \"ネガティブ\"\n",
    "    print(f\"テキスト： {text}\")\n",
    "    print(f\"予測ラベル： {predicted_label} ({label_name})\")\n",
    "    print(f\"確率： ネガティブ={predicted_proba[0]:.4f}, ポジティブ={predicted_proba[1]:.4f}\")\n",
    "\n",
    "# テストテキストで実行\n",
    "sample_text = \"the worst movie I 've ever seen\"\n",
    "predict_sentiment(sample_text)"
   ]
  },
  {
   "cell_type": "markdown",
   "id": "6dc435c3",
   "metadata": {},
   "source": [
    "６６．混合行列の作成"
   ]
  },
  {
   "cell_type": "code",
   "execution_count": 14,
   "id": "601d911c",
   "metadata": {},
   "outputs": [
    {
     "name": "stdout",
     "output_type": "stream",
     "text": [
      "混同行列:\n",
      "        予測:ネガティブ  予測:ポジティブ\n",
      "実際:ネガティブ    334              94\n",
      "実際:ポジティブ    72              372\n"
     ]
    }
   ],
   "source": [
    "from sklearn.metrics import confusion_matrix\n",
    "\n",
    "# 検証データ全体に対する予測\n",
    "y_pred = clf.predict(X_dev)\n",
    "\n",
    "# 混同行列の計算\n",
    "cm = confusion_matrix(y_dev, y_pred, labels=[0, 1])\n",
    "\n",
    "# 結果表示\n",
    "print(\"混同行列:\")\n",
    "print(\"        予測:ネガティブ  予測:ポジティブ\")\n",
    "print(f\"実際:ネガティブ    {cm[0][0]}              {cm[0][1]}\")\n",
    "print(f\"実際:ポジティブ    {cm[1][0]}              {cm[1][1]}\")"
   ]
  },
  {
   "cell_type": "markdown",
   "id": "bd6ab643",
   "metadata": {},
   "source": [
    "６７．精度の計測"
   ]
  },
  {
   "cell_type": "code",
   "execution_count": 15,
   "id": "b7c379ee",
   "metadata": {},
   "outputs": [
    {
     "name": "stdout",
     "output_type": "stream",
     "text": [
      "\n",
      "[学習データ]\n",
      "正解率 (Accuracy)      : 0.9424\n",
      "適合率 (Precision)     : 0.9431\n",
      "再現率 (Recall)        : 0.9544\n",
      "F1スコア               : 0.9487\n",
      "\n",
      "[検証データ]\n",
      "正解率 (Accuracy)      : 0.8096\n",
      "適合率 (Precision)     : 0.7983\n",
      "再現率 (Recall)        : 0.8378\n",
      "F1スコア               : 0.8176\n"
     ]
    }
   ],
   "source": [
    "from sklearn.metrics import accuracy_score, precision_score, recall_score, f1_score\n",
    "\n",
    "def evaluate_model(X, y_true, dataset_name=\"データ\"):\n",
    "    y_pred = clf.predict(X)\n",
    "\n",
    "    acc = accuracy_score(y_true, y_pred)\n",
    "    prec = precision_score(y_true, y_pred, average=\"binary\")\n",
    "    rec = recall_score(y_true, y_pred, average=\"binary\")\n",
    "    f1 = f1_score(y_true, y_pred, average=\"binary\")\n",
    "\n",
    "    print(f\"\\n[{dataset_name}]\")\n",
    "    print(f\"正解率 (Accuracy)      : {acc:.4f}\")\n",
    "    print(f\"適合率 (Precision)     : {prec:.4f}\")\n",
    "    print(f\"再現率 (Recall)        : {rec:.4f}\")\n",
    "    print(f\"F1スコア               : {f1:.4f}\")\n",
    "\n",
    "# 学習データで評価\n",
    "evaluate_model(X_train, y_train, dataset_name=\"学習データ\")\n",
    "\n",
    "# 検証データで評価\n",
    "evaluate_model(X_dev, y_dev, dataset_name=\"検証データ\")\n"
   ]
  },
  {
   "cell_type": "markdown",
   "id": "a6162a66",
   "metadata": {},
   "source": [
    "６８．特徴量の重みの確認"
   ]
  },
  {
   "cell_type": "code",
   "execution_count": 16,
   "id": "511e4545",
   "metadata": {},
   "outputs": [
    {
     "name": "stdout",
     "output_type": "stream",
     "text": [
      "ポジティブ寄りの特徴量（重みが大きい）トップ２０：\n",
      "refreshing           3.4332\n",
      "remarkable           3.4280\n",
      "powerful             3.2230\n",
      "hilarious            3.1823\n",
      "beautiful            3.0012\n",
      "wonderful            2.9737\n",
      "prose                2.9279\n",
      "terrific             2.8732\n",
      "appealing            2.8571\n",
      "enjoyable            2.8165\n",
      "treat                2.8034\n",
      "charmer              2.7524\n",
      "vividly              2.7156\n",
      "likable              2.6930\n",
      "solid                2.6522\n",
      "charming             2.6208\n",
      "half-bad             2.6180\n",
      "fascinating          2.6138\n",
      "impressive           2.5980\n",
      "intriguing           2.5649\n",
      "\n",
      "ネガティブ寄りの特徴量（重みが小さい）トップ20：\n",
      "lacking              2.5649\n",
      "lacks                2.5649\n",
      "worst                2.5649\n",
      "devoid               2.5649\n",
      "mess                 2.5649\n",
      "failure              2.5649\n",
      "stupid               2.5649\n",
      "bore                 2.5649\n",
      "flat                 2.5649\n",
      "depressing           2.5649\n",
      "loses                2.5649\n",
      "waste                2.5649\n",
      "lack                 2.5649\n",
      "squanders            2.5649\n",
      "hardly               2.5649\n",
      "none                 2.5649\n",
      "poor                 2.5649\n",
      "pointless            2.5649\n",
      "unfortunately        2.5649\n",
      "lousy                2.5649\n"
     ]
    }
   ],
   "source": [
    "import numpy as np\n",
    "\n",
    "# 特徴量名（単語）を取得\n",
    "feature_names = vectorizer.get_feature_names_out()\n",
    "\n",
    "# ロジスティック回帰モデルの重み（クラス1＝ポジティブに対応する係数）\n",
    "coefficients = clf.coef_[0]\n",
    "\n",
    "# 単語と重みのペアを作成\n",
    "feature_weights = list(zip(feature_names, coefficients))\n",
    "\n",
    "# 重みでソート（降順：ポジティブ寄り）\n",
    "top_positive = sorted(feature_weights, key=lambda x: x[1], reverse=True)[:20]\n",
    "\n",
    "# 重みでソート（昇順：ネガティブ寄り）\n",
    "top_negative = sorted(feature_weights, key=lambda x: x[1])[:20]\n",
    "\n",
    "# 表示\n",
    "print(\"ポジティブ寄りの特徴量（重みが大きい）トップ２０：\")\n",
    "for word, weight in top_positive:\n",
    "    print(f\"{word:20s} {weight:.4f}\")\n",
    "\n",
    "print(\"\\nネガティブ寄りの特徴量（重みが小さい）トップ20：\")\n",
    "for word, weights in top_negative:\n",
    "    print(f\"{word:20s} {weight:.4f}\")\n",
    "    "
   ]
  },
  {
   "cell_type": "markdown",
   "id": "08a9280d",
   "metadata": {},
   "source": [
    "６９．正則化パラメータの変更"
   ]
  },
  {
   "cell_type": "code",
   "execution_count": 20,
   "id": "4898d536",
   "metadata": {},
   "outputs": [
    {
     "name": "stdout",
     "output_type": "stream",
     "text": [
      "C=0.0010 -> 検証正解率=0.6846\n",
      "C=0.0036 -> 検証正解率=0.7156\n",
      "C=0.0129 -> 検証正解率=0.7661\n",
      "C=0.0464 -> 検証正解率=0.8028\n",
      "C=0.1668 -> 検証正解率=0.8085\n",
      "C=0.5995 -> 検証正解率=0.8050\n",
      "C=2.1544 -> 検証正解率=0.8177\n",
      "C=7.7426 -> 検証正解率=0.8211\n",
      "C=27.8256 -> 検証正解率=0.8108\n",
      "C=100.0000 -> 検証正解率=0.7947\n"
     ]
    },
    {
     "data": {
      "image/png": "[encoded data removed]",
      "text/plain": [
       "<Figure size 800x500 with 1 Axes>"
      ]
     },
     "metadata": {},
     "output_type": "display_data"
    }
   ],
   "source": [
    "import numpy as np\n",
    "import matplotlib.pyplot as plt\n",
    "from sklearn.linear_model import LogisticRegression\n",
    "from sklearn.metrics import accuracy_score\n",
    "\n",
    "# 試す正則化パラメータ（c: 大きいほど正則化が弱い）\n",
    "C_values = np.logspace(-3, 2, 10) # 0.001 ~ 100 の対数スケール\n",
    "\n",
    "# 各パラメータでの正解率を格納\n",
    "dev_accuracies = []\n",
    "\n",
    "for C in C_values:\n",
    "    # ロジスティック回帰モデルを学習\n",
    "    model = LogisticRegression(C=C, solver=\"liblinear\") # BoWベクトルに最適なシンプルなソルバー\n",
    "    model.fit(X_train, y_train)\n",
    "\n",
    "    # 検証データで予測して正解率を計算\n",
    "    y_dev_pred = model.predict(X_dev)\n",
    "    acc = accuracy_score(y_dev, y_dev_pred)\n",
    "    dev_accuracies.append(acc)\n",
    "\n",
    "    print(f\"C={C:.4f} -> 検証正解率={acc:.4f}\")\n",
    "\n",
    "# グラフ描画\n",
    "plt.figure(figsize=(8, 5))\n",
    "plt.plot(C_values, dev_accuracies, marker= \"o\")\n",
    "plt.xscale('log')\n",
    "plt.xlabel(\"Regularization Parameter C (log scale)\")\n",
    "plt.ylabel(\"Validation Accuracy\")\n",
    "plt.title(\"Effect of Regularization on Validation Accuracy\")\n",
    "plt.grid(True)\n",
    "plt.tight_layout()\n",
    "plt.show()\n"
   ]
  },
  {
   "cell_type": "code",
   "execution_count": null,
   "id": "3e409dcb",
   "metadata": {},
   "outputs": [],
   "source": []
  }
 ],
 "metadata": {
  "kernelspec": {
   "display_name": "Python 3",
   "language": "python",
   "name": "python3"
  },
  "language_info": {
   "codemirror_mode": {
    "name": "ipython",
    "version": 3
   },
   "file_extension": ".py",
   "mimetype": "text/x-python",
   "name": "python",
   "nbconvert_exporter": "python",
   "pygments_lexer": "ipython3",
   "version": "3.10.12"
  }
 },
 "nbformat": 4,
 "nbformat_minor": 5
}
