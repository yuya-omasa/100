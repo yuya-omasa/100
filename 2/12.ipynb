{
 "cells": [
  {
   "cell_type": "code",
   "execution_count": 3,
   "metadata": {},
   "outputs": [
    {
     "name": "stdout",
     "output_type": "stream",
     "text": [
      "ファイルの書き出しが完了しました\n"
     ]
    }
   ],
   "source": [
    "# 入力ファイルの読み込み\n",
    "with open(\"popular-names.txt\") as input_file:\n",
    "    lines = input_file.readlines()\n",
    "\n",
    "# 出力ファイルの書き込み\n",
    "with open('col1.txt', mode=\"w\") as col1, open('col2.txt', mode=\"w\") as col2:\n",
    "    for line in lines:\n",
    "        split = line.split()  # 行をスペースで分割\n",
    "        col1.write(split[0] + \"\\n\")  # 1列目を書き込み\n",
    "        col2.write(split[1] + \"\\n\")  # 2列目を書き込み\n",
    "\n",
    "print(\"ファイルの書き出しが完了しました\")\n"
   ]
  },
  {
   "cell_type": "code",
   "execution_count": null,
   "metadata": {},
   "outputs": [],
   "source": []
  }
 ],
 "metadata": {
  "kernelspec": {
   "display_name": "Python 3",
   "language": "python",
   "name": "python3"
  },
  "language_info": {
   "codemirror_mode": {
    "name": "ipython",
    "version": 3
   },
   "file_extension": ".py",
   "mimetype": "text/x-python",
   "name": "python",
   "nbconvert_exporter": "python",
   "pygments_lexer": "ipython3",
   "version": "3.13.0"
  }
 },
 "nbformat": 4,
 "nbformat_minor": 2
}
