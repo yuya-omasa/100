{
 "cells": [
  {
   "cell_type": "code",
   "execution_count": 1,
   "metadata": {},
   "outputs": [
    {
     "name": "stdout",
     "output_type": "stream",
     "text": [
      "ファイルの書き出しが完了しました\n"
     ]
    }
   ],
   "source": [
    "with open(\"col1.txt\",'r') as col1:\n",
    "    lines_col1 = col1.readlines()\n",
    "    \n",
    "with open(\"col2.txt\",'r') as col2:\n",
    "    lines_col2 = col2.readlines()\n",
    "\n",
    "with open('col3.txt', \"w\") as q13:\n",
    "    for line1, line2 in zip(lines_col1, lines_col2):\n",
    "        # 1列目のファイルの改行をタブ文字に置換することで、タブ区切りとしている\n",
    "        q13.write(line1.replace(\"\\n\", \"\\t\") + line2)\n",
    "        \n",
    "print(\"ファイルの書き出しが完了しました\")"
   ]
  },
  {
   "cell_type": "code",
   "execution_count": null,
   "metadata": {},
   "outputs": [],
   "source": []
  }
 ],
 "metadata": {
  "kernelspec": {
   "display_name": "Python 3",
   "language": "python",
   "name": "python3"
  },
  "language_info": {
   "codemirror_mode": {
    "name": "ipython",
    "version": 3
   },
   "file_extension": ".py",
   "mimetype": "text/x-python",
   "name": "python",
   "nbconvert_exporter": "python",
   "pygments_lexer": "ipython3",
   "version": "3.13.0"
  }
 },
 "nbformat": 4,
 "nbformat_minor": 2
}
